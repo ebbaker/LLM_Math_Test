{
 "cells": [
  {
   "cell_type": "code",
   "execution_count": 2,
   "metadata": {},
   "outputs": [],
   "source": [
    "import sys\n",
    "from src.theorems.file_parser import parse_lean_file\n",
    "from src.theorems.organized import Organized\n",
    "import openai\n",
    "from lean_dojo import *\n",
    "from src.theorems.organized import Organized\n",
    "\n",
    "openai.api_key = \n",
    "lean_version=\"Lean 3\"\n",
    "# Use the parse_file function\n",
    "minif2f = LeanGitRepo(\n",
    "    \"https://github.com/facebookresearch/miniF2F\",\n",
    "    \"5271ddec788677c815cf818a06f368ef6498a106\",\n",
    ")\n",
    "repo_path = \"lean/src/valid.lean\"\n",
    "file_path = \"input_files/valid.lean\"\n",
    "#traced_repo = trace(minif2f)\n",
    "#traced_file = traced_repo.get_traced_file(\"lean/src/valid.lean\")\n",
    "#traced_thm = traced_file.get_traced_theorem(\"exercise_1_1b\")\n",
    "#proof_node = thm.get_proof_node()\n",
    "#traced_proof = proof_node.lean_file[proof_node.start : proof_node.end]\n",
    "#print(proof_node.start)\n",
    "thms, thm_names = parse_lean_file(file_path, minif2f, repo_path)\n",
    "organized = Organized(thms)"
   ]
  },
  {
   "cell_type": "code",
   "execution_count": 3,
   "metadata": {},
   "outputs": [],
   "source": [
    "%load_ext autoreload\n",
    "%autoreload 2"
   ]
  },
  {
   "cell_type": "code",
   "execution_count": 4,
   "metadata": {},
   "outputs": [
    {
     "name": "stdout",
     "output_type": "stream",
     "text": [
      "env: TACTIC_TIMEOUT=5000\n"
     ]
    }
   ],
   "source": [
    "%env TACTIC_TIMEOUT=5000"
   ]
  },
  {
   "cell_type": "code",
   "execution_count": 5,
   "metadata": {},
   "outputs": [],
   "source": [
    "from src.proof_check.gpt_api import *\n",
    "from src.proof_check.lean_chat import *\n",
    "from lean_dojo import *\n",
    "from src.theorems.csv_out import *"
   ]
  },
  {
   "cell_type": "code",
   "execution_count": 6,
   "metadata": {},
   "outputs": [],
   "source": [
    "import random\n",
    "\n",
    "#algebra_thms=random.sample(organized.categories[\"algebra\"],10)\n",
    "#numbertheory_thms=random.sample(organized.categories[\"numbertheory\"],10)\n",
    "algebra_thm_names=['mathd_algebra_48','mathd_algebra_190','algebra_2rootsintpoly_am10tap11eqasqpam110','mathd_algebra_55','algebra_2rootspoly_apatapbeq2asqp2ab','mathd_algebra_462','mathd_algebra_109','mathd_algebra_181','mathd_algebra_101','algebra_sqineq_2at2pclta2c2p41pc']\n",
    "number_thm_names=['mathd_numbertheory_301','mathd_numbertheory_101','mathd_numbertheory_132','mathd_numbertheory_188','mathd_numbertheory_48','mathd_numbertheory_136','mathd_numbertheory_961','mathd_numbertheory_37','mathd_numbertheory_640','mathd_numbertheory_739']\n",
    "algebra_thms=[]\n",
    "numbertheory_thms=[]\n",
    "for thm_name in algebra_thm_names:\n",
    "    algebra_thms.append(organized.retrieve_theorem(thm_name))\n",
    "for thm_name in number_thm_names:\n",
    "    numbertheory_thms.append(organized.retrieve_theorem(thm_name))\n",
    "amc_thms=organized.categories[\"amc\"]\n",
    "aime_thms=organized.categories[\"aime\"]\n",
    "other_thms=organized.categories[\"other\"]\n",
    "\n",
    "theorem_set = algebra_thms+numbertheory_thms+amc_thms+aime_thms+other_thms\n"
   ]
  },
  {
   "cell_type": "code",
   "execution_count": 7,
   "metadata": {},
   "outputs": [],
   "source": [
    "model=\"gpt-3.5-turbo\"\n",
    "long_model=\"gpt-3.5-turbo-16k\"\n",
    "temp = .8"
   ]
  },
  {
   "cell_type": "code",
   "execution_count": 17,
   "metadata": {},
   "outputs": [
    {
     "name": "stdout",
     "output_type": "stream",
     "text": [
      "output_files/2_shot_0_compile/results.csv\n",
      "thm_name\n",
      "mathd_algebra_48\n",
      "mathd_algebra_190\n",
      "algebra_2rootsintpoly_am10tap11eqasqpam110\n",
      "mathd_algebra_55\n",
      "algebra_2rootspoly_apatapbeq2asqp2ab\n",
      "mathd_algebra_462\n",
      "mathd_algebra_109\n",
      "mathd_algebra_181\n",
      "mathd_algebra_101\n",
      "algebra_sqineq_2at2pclta2c2p41pc\n",
      "mathd_numbertheory_301\n",
      "mathd_numbertheory_101\n",
      "mathd_numbertheory_132\n",
      "mathd_numbertheory_188\n",
      "mathd_algebra_48\n",
      "mathd_algebra_190\n",
      "algebra_2rootsintpoly_am10tap11eqasqpam110\n",
      "mathd_algebra_55\n",
      "algebra_2rootspoly_apatapbeq2asqp2ab\n",
      "mathd_algebra_462\n",
      "mathd_algebra_109\n",
      "mathd_algebra_181\n",
      "mathd_algebra_101\n",
      "algebra_sqineq_2at2pclta2c2p41pc\n",
      "mathd_numbertheory_301\n",
      "mathd_numbertheory_101\n",
      "mathd_numbertheory_132\n",
      "mathd_numbertheory_188\n",
      "mathd_numbertheory_48\n"
     ]
    }
   ],
   "source": [
    "def extract_first_column(file):\n",
    "    reader = csv.reader(file)\n",
    "    result=[]\n",
    "    for row in reader:\n",
    "        result.append(row[0])\n",
    "    return result\n",
    "\n",
    "def gpt_thm_test(num_examples,num_compiler_errors, completed_thm_in, theorem_set_in):\n",
    "    for thm in theorem_set_in:\n",
    "        print(f\"{thm.thm_name}\")\n",
    "        if thm not in completed_thm_in:\n",
    "            examples = organized.select_theorems(thm.thm_name, num_theorems=num_examples, similarity=True)\n",
    "            thm_chat(thm,examples,num_compiler_errors,model,long_model,output_folder,csv_file,temperature=temp,lean_version=lean_version)\n",
    "            completed_thm_in.append(thm)\n",
    "    return completed_thm_in\n",
    "\n",
    "#for num_compiler_errors in range(0,2):\n",
    "num_examples=2\n",
    "num_compiler_errors=0\n",
    "examples=[]\n",
    "output_folder=f\"output_files/{num_examples}_shot_{num_compiler_errors}_compile/\"\n",
    "try:\n",
    "    os.mkdir(output_folder)\n",
    "except:\n",
    "    pass\n",
    "\n",
    "csv_file=output_folder+\"results.csv\"\n",
    "create_csv(csv_file)\n",
    "completed_thm_list=[]\n",
    "\n",
    "#with open(csv_file, 'r') as file:\n",
    "#    completed_thm_names=extract_first_column(file)\n",
    "#    for thm_name in completed_thm_names:\n",
    "#        completed_thm_list.append(organized.retrieve_theorem(thm_name))\n",
    "    \n",
    "completed_thm_list=gpt_thm_test(num_examples,num_compiler_errors,completed_thm_list, theorem_set)\n"
   ]
  }
 ],
 "metadata": {
  "kernelspec": {
   "display_name": "Python 3",
   "language": "python",
   "name": "python3"
  },
  "language_info": {
   "codemirror_mode": {
    "name": "ipython",
    "version": 3
   },
   "file_extension": ".py",
   "mimetype": "text/x-python",
   "name": "python",
   "nbconvert_exporter": "python",
   "pygments_lexer": "ipython3",
   "version": "3.10.0"
  },
  "orig_nbformat": 4
 },
 "nbformat": 4,
 "nbformat_minor": 2
}
